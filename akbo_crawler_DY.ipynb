{
 "cells": [
  {
   "cell_type": "markdown",
   "metadata": {},
   "source": [
    "# akbo_crawler"
   ]
  },
  {
   "cell_type": "code",
   "execution_count": 1,
   "metadata": {
    "collapsed": true
   },
   "outputs": [],
   "source": [
    "import requests\n",
    "from bs4 import BeautifulSoup as bs\n",
    "import pandas as pd\n",
    "import numpy as np\n",
    "import json"
   ]
  },
  {
   "cell_type": "code",
   "execution_count": 2,
   "metadata": {
    "collapsed": true
   },
   "outputs": [],
   "source": [
    "def akbo_crawler(akbo_ajax_url, id_url) :\n",
    "    \n",
    "    df_list = []\n",
    "    \n",
    "    for i in range(1,101):\n",
    "        params = {'pageIndex':str(i) , 'groupCode':'12'}\n",
    "        akbo_ajax_rqst = requests.get(akbo_ajax_url, params = params)\n",
    "        akbo_ajax_soup = bs(akbo_ajax_rqst.text, 'html.parser')\n",
    "    \n",
    "        akbo_list = json.loads(akbo_ajax_rqst.text)\n",
    "    \n",
    "        sample_df_i = pd.DataFrame(akbo_list)\n",
    "        \n",
    "        df_list.append(sample_df_i)\n",
    "    \n",
    "    tmp_df = pd.concat(df_list)\n",
    "    \n",
    "    result_tmp = np.empty([3000,5], dtype=object)\n",
    "    \n",
    "    for akbo_num, akbo_id in enumerate(tmp_df['AKBO_ID']) : \n",
    "    \n",
    "        id_rqst = requests.get(id_url.format(akbo_id))\n",
    "        id_soup = bs(id_rqst.content, 'lxml')\n",
    "    \n",
    "        # 첫번째 칸에 제목\n",
    "        result_tmp[akbo_num,0] = id_soup.findAll('dt')[3].text[:-4]\n",
    "    \n",
    "        # 두번째 칸부터 나머지 정보 순차적으로\n",
    "        for i in range(4,100):\n",
    "            tmp = [value.text.strip() for value in id_soup.findAll('tr')[i].findAll('td')]\n",
    "            try : \n",
    "                tmp[0] == '피아노 3단 악보'\n",
    "            except IndexError : pass\n",
    "            else:\n",
    "                if tmp[0] == '피아노 3단 악보':\n",
    "                    break\n",
    "                elif tmp[0] == '피아노&듀엣 악보':\n",
    "                    break\n",
    "                elif tmp[0] == 'Solo&피아노 악보':\n",
    "                    break\n",
    "                else :\n",
    "                    pass\n",
    "    \n",
    "        result_tmp[akbo_num,1] = tmp[0]\n",
    "        result_tmp[akbo_num,2] = tmp[1]\n",
    "        result_tmp[akbo_num,3] = tmp[2]\n",
    "        result_tmp[akbo_num,4] = tmp[3]\n",
    "        \n",
    "    result_df = pd.DataFrame(result_tmp , columns = ['곡명','파트', '설명', 'Key(조)', '페이지'])\n",
    "    \n",
    "    final_df = tmp_df[['AK_NAME','ALBUM_NAME','ARTISTLIST']].merge(result_df, left_on = 'AK_NAME', right_on = '곡명')\n",
    "    \n",
    "    final_df.to_csv('akbo.csv', index=False)\n",
    "    \n",
    "    print('완료!')"
   ]
  },
  {
   "cell_type": "code",
   "execution_count": null,
   "metadata": {
    "collapsed": true
   },
   "outputs": [],
   "source": [
    "akbo_crawler('http://www.akbobada.com/ajaxPartgList.html','http://www.akbobada.com/musicDetail.html?musicID={}&p=1')"
   ]
  }
 ],
 "metadata": {
  "kernelspec": {
   "display_name": "Python 3",
   "language": "python",
   "name": "python3"
  },
  "language_info": {
   "codemirror_mode": {
    "name": "ipython",
    "version": 3
   },
   "file_extension": ".py",
   "mimetype": "text/x-python",
   "name": "python",
   "nbconvert_exporter": "python",
   "pygments_lexer": "ipython3",
   "version": "3.6.1"
  }
 },
 "nbformat": 4,
 "nbformat_minor": 2
}
